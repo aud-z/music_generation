{
 "cells": [
  {
   "cell_type": "code",
   "execution_count": 1,
   "metadata": {},
   "outputs": [],
   "source": [
    "import numpy as np \n",
    "import string\n",
    "import nltk\n",
    "import re"
   ]
  },
  {
   "cell_type": "code",
   "execution_count": 2,
   "metadata": {},
   "outputs": [],
   "source": [
    "with open('rent_transcript.txt') as f:\n",
    "    rent = f.read().split('\\n')\n",
    "\n",
    "rent = rent[1:]"
   ]
  },
  {
   "cell_type": "code",
   "execution_count": 3,
   "metadata": {},
   "outputs": [],
   "source": [
    "\n",
    "\n",
    "rent_text = rent[1: len(rent): 2]\n",
    "rent_times = rent[0: len(rent) - 1: 2]"
   ]
  },
  {
   "cell_type": "code",
   "execution_count": 4,
   "metadata": {},
   "outputs": [
    {
     "name": "stdout",
     "output_type": "stream",
     "text": [
      "25\n"
     ]
    }
   ],
   "source": [
    "def seconds_counter(tm):\n",
    "    splitcolons = tm.split(':')\n",
    "    if len(splitcolons) == 3:\n",
    "        return(int(splitcolons[0]) * 3600 + int(splitcolons[1]) * 60 + int(splitcolons[2]))\n",
    "    if len(splitcolons) == 2:\n",
    "        return(int(splitcolons[0]) * 60 + int(splitcolons[1]))\n",
    "\n",
    "rent_seconds = [seconds_counter(i) for i in rent_times]\n",
    "\n",
    "rent_breakpoints_1 = ['1:13', '2:36', '3:20', '3:58', '5:20', '9:54', '11:44',\n",
    "                    '12:43', '15:27', '19:50', '20:51', '24:35', '27:51', '32:41',\n",
    "                    '34:28', '38:14', '43:02', '45:00', '46:45', '50:15', '52:45',\n",
    "                    '54:09', '1:00:10', '1:13:45', '1:16:25', '1:18:31'] # ends at 1,18,31\n",
    "rent_breakpoints_2 = ['1:28:33', '1:31:41',\n",
    "                    '1:34:50', '1:35:42', '1:40:21', '1:44:03', '1:45:45', '1:49:57',\n",
    "                    '1:50:34', '1:54:20', '1:57:34', '1:59:12', '2:06:45', '2:10:25',\n",
    "                    '2:11:20', '2:16:50', '2:19:59', '2:22:20']\n",
    "\n",
    "rent_seconds_1 = [seconds_counter(i) for i in rent_breakpoints_1]\n",
    "\n",
    "\n",
    "def words_compiler(starttime, stoptime):\n",
    "    out = ''\n",
    "    for i in range(len(rent_seconds)):\n",
    "        cur_time = rent_seconds[i]\n",
    "        if cur_time >=starttime and cur_time < stoptime:\n",
    "            out += rent_text[i]\n",
    "    translator = str.maketrans(string.punctuation, ' '*len(string.punctuation)) #map punctuation to space\n",
    "    out =  out.lower().translate(translator)\n",
    "    return re.sub('\\s+', ' ', out).strip()\n",
    "\n",
    "word_list = []\n",
    "\n",
    "for i in range(len(rent_seconds_1) - 1):\n",
    "    cur_words = words_compiler(rent_seconds_1[i], rent_seconds_1[i + 1])\n",
    "    word_list.append(cur_words)\n",
    "print(len(word_list))"
   ]
  },
  {
   "cell_type": "code",
   "execution_count": 12,
   "metadata": {},
   "outputs": [
    {
     "name": "stderr",
     "output_type": "stream",
     "text": [
      "[nltk_data] Downloading package stopwords to\n",
      "[nltk_data]     C:\\Users\\kerx9\\AppData\\Roaming\\nltk_data...\n",
      "[nltk_data]   Unzipping corpora\\stopwords.zip.\n"
     ]
    },
    {
     "data": {
      "text/plain": [
       "True"
      ]
     },
     "execution_count": 12,
     "metadata": {},
     "output_type": "execute_result"
    }
   ],
   "source": [
    "nltk.download('stopwords', 'punkt', 'wordnet')\n",
    "\n",
    "nltk.download('stopwords')"
   ]
  },
  {
   "cell_type": "code",
   "execution_count": 13,
   "metadata": {},
   "outputs": [],
   "source": [
    "# Modified from github.com/bagustris/text-vad\n",
    "\n",
    "from nltk import tokenize\n",
    "from nltk.corpus import stopwords\n",
    "from nltk.tokenize import word_tokenize\n",
    "from nltk.stem.wordnet import WordNetLemmatizer\n",
    "import csv\n",
    "\n",
    "lmtzr = WordNetLemmatizer()\n",
    "stops = set(stopwords.words(\"english\"))\n",
    "anew = \"EnglishShortened.csv\"\n",
    "avg_V = 5.06    # average V from ANEW dict\n",
    "avg_A = 4.21\n",
    "avg_D = 5.18\n",
    "\n",
    "def vad_analyzer(words):\n",
    "    # Returns average V, A and D score for each song.\n",
    "    all_words = []\n",
    "    found_words = []\n",
    "    total_words = 0\n",
    "    v_list = []  # holds valence scores\n",
    "    a_list = []  # holds arousal scores\n",
    "    d_list = []  # holds dominance scores\n",
    "\n",
    "    words = nltk.pos_tag(words)\n",
    "\n",
    "    # search for each valid word's sentiment in ANEW\n",
    "    for index, p in enumerate(words):\n",
    "        # don't process stops or words w/ punctuation\n",
    "        w = p[0]\n",
    "        pos = p[1]\n",
    "        if w in stops or not w.isalpha():\n",
    "            continue\n",
    "\n",
    "        # check for negation in 3 words before current word\n",
    "        j = index-1\n",
    "        neg = False\n",
    "        while j >= 0 and j >= index-3:\n",
    "            if words[j][0] == 'not' or words[j][0] == 'no' or words[j][0] == 'n\\'t':\n",
    "                neg = True\n",
    "                break\n",
    "            j -= 1\n",
    "\n",
    "        # lemmatize word based on pos\n",
    "        if pos[0] == 'N' or pos[0] == 'V':\n",
    "            lemma = lmtzr.lemmatize(w, pos=pos[0].lower())\n",
    "        else:\n",
    "            lemma = w\n",
    "\n",
    "        all_words.append(lemma)\n",
    "\n",
    "        # search for lemmatized word in ANEW\n",
    "        with open(anew) as csvfile:\n",
    "            reader = csv.DictReader(csvfile)\n",
    "            for row in reader:\n",
    "                if row['Word'].casefold() == lemma.casefold():\n",
    "                    if neg:\n",
    "                        found_words.append(\"neg-\"+lemma)\n",
    "                    else:\n",
    "                        found_words.append(lemma)\n",
    "                    v = float(row['valence'])\n",
    "                    a = float(row['arousal'])\n",
    "                    d = float(row['dominance'])\n",
    "\n",
    "                    if neg:\n",
    "                        # reverse polarity for this word\n",
    "                        v = 5 - (v - 5)\n",
    "                        a = 5 - (a - 5)\n",
    "                        d = 5 - (d - 5)\n",
    "\n",
    "                    v_list.append(v)\n",
    "                    a_list.append(a)\n",
    "                    d_list.append(d)\n",
    "\n",
    "    if len(found_words) == 0:  # no words found in ANEW for this sentence\n",
    "        print(\"no found words\")\n",
    "        # writer.writerow({'Sentence ID': i,\n",
    "        #                     'Sentence': s,\n",
    "        #                     'Valence': np.nan,\n",
    "        #                     'Sentiment Label': np.nan,\n",
    "        #                     'Arousal': np.nan,\n",
    "        #                     'Dominance': np.nan,\n",
    "        #                     'Average VAD': np.nan,\n",
    "        #                     '# Words Found': 0,\n",
    "        #                     'Found Words': np.nan,\n",
    "        #                     'All Words': all_words\n",
    "        #                     })\n",
    "    else:  # output sentiment info for this sentence\n",
    "        # get values\n",
    "        sentiment = np.mean(v_list)\n",
    "        arousal = np.mean(a_list)\n",
    "        dominance = np.mean(d_list)\n",
    "        label = 'neutral'\n",
    "        if sentiment > 6:\n",
    "            label = 'positive'\n",
    "        elif sentiment < 4:\n",
    "            label = 'negative'\n",
    "        return sentiment, arousal, dominance, label"
   ]
  },
  {
   "cell_type": "code",
   "execution_count": null,
   "metadata": {},
   "outputs": [],
   "source": []
  },
  {
   "cell_type": "code",
   "execution_count": 20,
   "metadata": {},
   "outputs": [
    {
     "name": "stderr",
     "output_type": "stream",
     "text": [
      "[nltk_data] Downloading package wordnet to\n",
      "[nltk_data]     C:\\Users\\kerx9\\AppData\\Roaming\\nltk_data...\n",
      "[nltk_data]   Package wordnet is already up-to-date!\n",
      "[nltk_data] Downloading package punkt to\n",
      "[nltk_data]     C:\\Users\\kerx9\\AppData\\Roaming\\nltk_data...\n",
      "[nltk_data]   Package punkt is already up-to-date!\n",
      "[nltk_data] Downloading package stopwords to\n",
      "[nltk_data]     C:\\Users\\kerx9\\AppData\\Roaming\\nltk_data...\n",
      "[nltk_data]   Package stopwords is already up-to-date!\n",
      "[nltk_data] Downloading package omw-1.4 to\n",
      "[nltk_data]     C:\\Users\\kerx9\\AppData\\Roaming\\nltk_data...\n",
      "[nltk_data]   Package omw-1.4 is already up-to-date!\n"
     ]
    }
   ],
   "source": [
    "nltk.download('wordnet')\n",
    "nltk.download('punkt')\n",
    "nltk.download('stopwords')\n",
    "nltk.download('omw-1.4')\n",
    "V = []\n",
    "A = []\n",
    "D = []\n",
    "for words in word_list:\n",
    "    v,a,d,l = vad_analyzer(words.split(' '))\n",
    "    V.append(v)\n",
    "    A.append(a)\n",
    "    D.append(d)\n",
    "    "
   ]
  },
  {
   "cell_type": "code",
   "execution_count": 27,
   "metadata": {},
   "outputs": [
    {
     "data": {
      "image/png": "[encoded data removed]",
      "text/plain": [
       "<Figure size 432x288 with 1 Axes>"
      ]
     },
     "metadata": {
      "needs_background": "light"
     },
     "output_type": "display_data"
    }
   ],
   "source": [
    "import matplotlib.pyplot as plt\n",
    "ind = np.arange(1, 26)\n",
    "plt.plot(ind, (np.array(V) - 5) / 4 , label = \"Valence\")\n",
    "plt.plot(ind, (np.array(A) - 5) / 4 , label = \"Arousal\")\n",
    "plt.plot(ind, (np.array(D) - 5) / 4 , label = \"Dominance\")\n",
    "plt.legend()\n",
    "plt.show()\n"
   ]
  },
  {
   "cell_type": "code",
   "execution_count": 21,
   "metadata": {},
   "outputs": [],
   "source": [
    "np.save('rent_valences', V)\n",
    "np.save('rent_arousals', A)"
   ]
  }
 ],
 "metadata": {
  "interpreter": {
   "hash": "a12c7c87985cf65dec99bde258120110b7d98c12393b486222dd1404e61aaa32"
  },
  "kernelspec": {
   "display_name": "Python 3.8.12 ('cv')",
   "language": "python",
   "name": "python3"
  },
  "language_info": {
   "codemirror_mode": {
    "name": "ipython",
    "version": 3
   },
   "file_extension": ".py",
   "mimetype": "text/x-python",
   "name": "python",
   "nbconvert_exporter": "python",
   "pygments_lexer": "ipython3",
   "version": "3.8.12"
  },
  "orig_nbformat": 4
 },
 "nbformat": 4,
 "nbformat_minor": 2
}
